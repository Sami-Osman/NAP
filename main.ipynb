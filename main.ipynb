{
  "cells": [
    {
      "cell_type": "markdown",
      "source": [
        "## Natural Language Processing \n",
        "## ------ Next Argument Prediction ------"
      ],
      "metadata": {
        "id": "3L4F0JQlyHen"
      }
    },
    {
      "cell_type": "markdown",
      "source": [
        "# Clone the Project from Github repo"
      ],
      "metadata": {
        "id": "b_xbLcA4y2Hn"
      }
    },
    {
      "cell_type": "code",
      "source": [
        "!git clone https://github.com/Sami-Osman/NAP.git"
      ],
      "metadata": {
        "id": "_lbMctzVy7_M",
        "outputId": "71a188db-ff31-463a-a4b9-b2d8c40d20af",
        "colab": {
          "base_uri": "https://localhost:8080/"
        }
      },
      "execution_count": 1,
      "outputs": [
        {
          "output_type": "stream",
          "name": "stdout",
          "text": [
            "Cloning into 'NAP'...\n",
            "remote: Enumerating objects: 390, done.\u001b[K\n",
            "remote: Counting objects: 100% (25/25), done.\u001b[K\n",
            "remote: Compressing objects: 100% (22/22), done.\u001b[K\n",
            "remote: Total 390 (delta 3), reused 20 (delta 1), pack-reused 365\u001b[K\n",
            "Receiving objects: 100% (390/390), 58.39 MiB | 16.14 MiB/s, done.\n",
            "Resolving deltas: 100% (20/20), done.\n"
          ]
        }
      ]
    },
    {
      "cell_type": "markdown",
      "source": [
        "# Install Transformers"
      ],
      "metadata": {
        "id": "6SLPd2xlzH84"
      }
    },
    {
      "cell_type": "code",
      "source": [
        "!pip install transformers==3.1.0 -q"
      ],
      "metadata": {
        "id": "BQAfj1kGGRUi",
        "outputId": "02340886-3425-42ef-dbaa-7db097e03f2a",
        "colab": {
          "base_uri": "https://localhost:8080/"
        }
      },
      "execution_count": 3,
      "outputs": [
        {
          "output_type": "stream",
          "name": "stdout",
          "text": [
            "\u001b[K     |████████████████████████████████| 884 kB 30.0 MB/s \n",
            "\u001b[K     |████████████████████████████████| 1.3 MB 47.7 MB/s \n",
            "\u001b[K     |████████████████████████████████| 3.0 MB 56.8 MB/s \n",
            "\u001b[K     |████████████████████████████████| 880 kB 60.6 MB/s \n",
            "\u001b[?25h  Building wheel for sacremoses (setup.py) ... \u001b[?25l\u001b[?25hdone\n"
          ]
        }
      ]
    },
    {
      "cell_type": "markdown",
      "source": [
        "# Imports:"
      ],
      "metadata": {
        "id": "Ql3H6lUaCFOF"
      }
    },
    {
      "cell_type": "code",
      "execution_count": 5,
      "metadata": {
        "id": "zCmgy2qNAkoJ"
      },
      "outputs": [],
      "source": [
        "import pandas as pd\n",
        "from torch.utils.data import DataLoader, Dataset\n",
        "from transformers import AdamW, get_linear_schedule_with_warmup\n",
        "import torch.nn as nn\n",
        "import os\n",
        "import numpy as np\n",
        "import torch"
      ]
    },
    {
      "cell_type": "markdown",
      "source": [
        "# Set working directory to the downloaded project folder"
      ],
      "metadata": {
        "id": "8CPiTHKCzyDr"
      }
    },
    {
      "cell_type": "code",
      "execution_count": 8,
      "metadata": {
        "colab": {
          "base_uri": "https://localhost:8080/"
        },
        "id": "1meRXFat_VMt",
        "outputId": "abc9baed-bee8-4046-8e15-247a4daedf1c"
      },
      "outputs": [
        {
          "output_type": "stream",
          "name": "stdout",
          "text": [
            "/content/NAP\n"
          ]
        }
      ],
      "source": [
        "%cd /content/NAP/\n",
        "working_dir = os.getcwd()"
      ]
    },
    {
      "cell_type": "markdown",
      "source": [
        "# Dataset Processing"
      ],
      "metadata": {
        "id": "eGCVre_N0EwE"
      }
    },
    {
      "cell_type": "markdown",
      "metadata": {
        "id": "nbaP7dd180WQ"
      },
      "source": [
        "## Train Dataset:\n",
        "### README.txt FILE HELPS TO UNDERSTAND HOW DATASETS ARE CREATED"
      ]
    },
    {
      "cell_type": "code",
      "source": [
        "# Kialo_GeneralDF class is defined in the file Kialo_GeneralDF.py (from Kialo text file to general data frame)\n",
        "# GeneralDF_SentPairDF class is defined in the file GeneralDF_SentPairDF.py (generates argument pair dataset from general data frame .pkl file)\n",
        "import Kialo_GeneralDF, GeneralDF_SentPairDF\n",
        "#Training dataset:\n",
        "trainData = Kialo_GeneralDF.main(working_dir + \"/dataset/train\", \"trainData\")\n",
        "train_pair = GeneralDF_SentPairDF.main(working_dir + \"/dataframe/trainData.pkl\", \"trainPair\")"
      ],
      "metadata": {
        "id": "w8TGJE7lHYMO",
        "colab": {
          "base_uri": "https://localhost:8080/"
        },
        "outputId": "b4c7abdc-7acb-4ff5-fddc-4e3cd4a09085"
      },
      "execution_count": 9,
      "outputs": [
        {
          "output_type": "stream",
          "name": "stdout",
          "text": [
            "UPLOADING DATASET FROM FOLDER.........\n",
            "\t Argument Pool Count \n",
            "\t trainData  size:  56877\n",
            "\n",
            "trainPair size:  80754\n",
            "\t 0 => [YES NEXT ARGUMENT] 1 => [NOT NEXT ARGUMENT]\n",
            "1    40378\n",
            "0    40376\n",
            "Name: label, dtype: int64\n"
          ]
        }
      ]
    },
    {
      "cell_type": "markdown",
      "metadata": {
        "id": "MkPh6rly9jur"
      },
      "source": [
        "## Validation Dataset"
      ]
    },
    {
      "cell_type": "code",
      "source": [
        "# Validation dataset\n",
        "validationdData = Kialo_GeneralDF.main(working_dir + \"/dataset/validation\", \"validationData\")\n",
        "validation_pair = GeneralDF_SentPairDF.main(working_dir + \"/dataframe/validationData.pkl\", \"validationPair\")"
      ],
      "metadata": {
        "id": "k32n2p4a9opQ",
        "colab": {
          "base_uri": "https://localhost:8080/"
        },
        "outputId": "fb874e44-e560-46a4-bef8-ae6ff9177b7c"
      },
      "execution_count": 10,
      "outputs": [
        {
          "output_type": "stream",
          "name": "stdout",
          "text": [
            "UPLOADING DATASET FROM FOLDER.........\n",
            "\t Argument Pool Count \n",
            "\t validationData  size:  16049\n",
            "\n",
            "validationPair size:  22810\n",
            "\t 0 => [YES NEXT ARGUMENT] 1 => [NOT NEXT ARGUMENT]\n",
            "0    11406\n",
            "1    11404\n",
            "Name: label, dtype: int64\n"
          ]
        }
      ]
    },
    {
      "cell_type": "markdown",
      "source": [
        "## I Run this cell if I don't need to generate new dataset. Simply use the Dataset which was already generated from previous run time."
      ],
      "metadata": {
        "id": "FpTpLib-_yCJ"
      }
    },
    {
      "cell_type": "code",
      "source": [
        "# run this cell if you want to access the sentence pair dataset already generated\n",
        "folder = os.path.join(os.getcwd() , \"dataframe\")\n",
        "path = os.path.join(folder, \"trainPair.pkl\")\n",
        "Data = pd.read_pickle(path)\n",
        "train_pair = Data.drop(['index', 'position1', 'position2'], axis = 1)\n",
        "print('Train dataset size: ', len(train_pair))\n",
        "\n",
        "path = os.path.join(folder, \"validationPair.pkl\")\n",
        "Data = pd.read_pickle(path)\n",
        "validation_pair = Data.drop(['index', 'position1', 'position2'], axis = 1)\n",
        "print('validation dataset size: ', len(validation_pair))"
      ],
      "metadata": {
        "id": "MAlzxypMCVym",
        "colab": {
          "base_uri": "https://localhost:8080/"
        },
        "outputId": "430bf5ac-da73-4ff3-d14e-a3143698504d"
      },
      "execution_count": 11,
      "outputs": [
        {
          "output_type": "stream",
          "name": "stdout",
          "text": [
            "Train dataset size:  80754\n",
            "validation dataset size:  22810\n"
          ]
        }
      ]
    },
    {
      "cell_type": "markdown",
      "source": [
        "## There are three different versions of Models:\n",
        "▶ version 0 BaseModel \n",
        "▶ version 1 Basemodel+LSTM\n",
        "▶ version 2 Basemodel+GRU\n"
      ],
      "metadata": {
        "id": "-9oCNT03AmRr"
      }
    },
    {
      "cell_type": "code",
      "execution_count": 12,
      "metadata": {
        "id": "6625VTLDLtEz"
      },
      "outputs": [],
      "source": [
        "from Config import Config # Config.py file contains Variables used to configure the Network.\n",
        "# All this Models are defined in the Dataset_Model.py file.\n",
        "from Dataset_Model import PairClrBaseModel, PairClassifierPLSTM, PairClassifierPGRU"
      ]
    },
    {
      "cell_type": "markdown",
      "source": [
        "## Custom Dataset and Data Loaders:"
      ],
      "metadata": {
        "id": "cBlQb2k6CC4L"
      }
    },
    {
      "cell_type": "code",
      "execution_count": 13,
      "metadata": {
        "id": "9qRhsdc4K-Cz",
        "colab": {
          "base_uri": "https://localhost:8080/",
          "height": 170,
          "referenced_widgets": [
            "c41f3e51a1a24cc0a5bdbd7fbdbd66d6",
            "014d19bb7faf407d8620fc7069758250",
            "0da00298a3054d229d3aab4fcc88106f",
            "f2bcee7005b844a1931f2c4e098498a2",
            "fc635137a6014b9190e7932b7bf53194",
            "a8ca6142e9724a86ae476d2f04ef503e",
            "7a5fd14884d54afb904b0fcafee418aa",
            "ced54185fb9b4aff965d02b9128aee91",
            "c116726922eb4944b714187f795874ca",
            "22d040ea43d74e40acd177fcaec63ab8",
            "18ae365e81b2431a8062720a2a80a0b8",
            "2f44075645b140ce8519e8f3fb6d1a28",
            "9353da0e30ef4f4c8dd1a948c51d6e80",
            "e921398cba6c4c9d81fd815ea5eff52e",
            "791008d283204249b9bb12ec5f055148",
            "6f8cfe595b774274b92f489f674c2130",
            "620b49e8c89f4db99514666030770d25",
            "dd5540155b63477da5f0833f7ddf8e2a",
            "7adac146f7d54db08d236bd31b59fce8",
            "21a6861075d44bae986956daaea72a64",
            "3a066489b89f479ea371f640b84508ec",
            "6eb19362cbf049f6bc32a18df4bc24b5"
          ]
        },
        "outputId": "6fc2e712-cce4-4b5e-b333-c54a367da2f4"
      },
      "outputs": [
        {
          "output_type": "stream",
          "name": "stdout",
          "text": [
            "Reading training data...\n"
          ]
        },
        {
          "output_type": "display_data",
          "data": {
            "text/plain": [
              "Downloading:   0%|          | 0.00/684 [00:00<?, ?B/s]"
            ],
            "application/vnd.jupyter.widget-view+json": {
              "version_major": 2,
              "version_minor": 0,
              "model_id": "c41f3e51a1a24cc0a5bdbd7fbdbd66d6"
            }
          },
          "metadata": {}
        },
        {
          "output_type": "display_data",
          "data": {
            "text/plain": [
              "Downloading:   0%|          | 0.00/760k [00:00<?, ?B/s]"
            ],
            "application/vnd.jupyter.widget-view+json": {
              "version_major": 2,
              "version_minor": 0,
              "model_id": "2f44075645b140ce8519e8f3fb6d1a28"
            }
          },
          "metadata": {}
        },
        {
          "output_type": "stream",
          "name": "stdout",
          "text": [
            "Reading validation data...\n"
          ]
        },
        {
          "output_type": "stream",
          "name": "stderr",
          "text": [
            "/usr/local/lib/python3.7/dist-packages/torch/utils/data/dataloader.py:566: UserWarning: This DataLoader will create 5 worker processes in total. Our suggested max number of worker in current system is 2, which is smaller than what this DataLoader is going to create. Please be aware that excessive worker creation might get DataLoader running slow or even freeze, lower the worker number to avoid potential slowness/freeze if necessary.\n",
            "  cpuset_checked))\n"
          ]
        }
      ],
      "source": [
        "from Dataset_Model import CustomDataset # My CustomDataset is defined in the Dataset_Model.py file\n",
        "from Utility import checkpoint # Utility.py file contains several function used as checkpoint, set seed, show graphs etc..\n",
        "\n",
        "checkpoint.set_seed(1)\n",
        "# Creating instances of training and validation Custom data set\n",
        "print(\"Reading training data...\")\n",
        "train_set = CustomDataset(train_pair, Config.maxlen,Config.with_labels, Config.bert_model)\n",
        "print(\"Reading validation data...\")\n",
        "val_set = CustomDataset(validation_pair, Config.maxlen, Config.bert_model)\n",
        "\n",
        "\n",
        "# Creating instances of training and validation dataloaders\n",
        "train_loader = DataLoader(train_set, batch_size=Config.bs, num_workers=5, shuffle=True)\n",
        "val_loader = DataLoader(val_set, batch_size=Config.bs, num_workers=5)"
      ]
    },
    {
      "cell_type": "markdown",
      "source": [
        "## TRAINING"
      ],
      "metadata": {
        "id": "On7gmRPTEF7I"
      }
    },
    {
      "cell_type": "code",
      "source": [
        "from train import Train_Res # Train_Res.py contains the training loops and validation class definitions\n",
        "#net = PairClrBaseModel(Config.bert_model, Config.freeze_bert) # uncomment to use the base model version 0 of the project\n",
        "#net = PairClassifierPLSTM(Config.bert_model, Config.freeze_bert) # uncomment to use the base+LSTM model version 1 of the project\n",
        "net = PairClassifierPGRU(Config.bert_model, Config.freeze_bert) # uncomment to use the base+GRU model version 2 of the project\n",
        "net.to(Config.device)\n",
        "      \n",
        "opti = AdamW(net.parameters(), lr=Config.lr, weight_decay=1e-2)\n",
        "lr_scheduler = checkpoint.get_my_lr_scheduler(opti, train_loader, Config.epochs)\n",
        "Get_result = Train_Res(Config.device, Config.bert_model) # creating an instance of Train_Res class for training the network\n",
        "train_losses, val_losses, train_acc, val_acc= Get_result.train_bert(net, Config.criterion, opti, Config.lr, train_loader, val_loader, Config.epochs, lr_scheduler, Config.bert_version)\n"
      ],
      "metadata": {
        "id": "NTu658ScMrr-",
        "colab": {
          "base_uri": "https://localhost:8080/",
          "height": 295,
          "referenced_widgets": [
            "9c51e2c3239648619e49b6e4ff5f92e1",
            "f4ce335d599f49b1a949c811d0a5c550",
            "c86715434aab4882a601cf4dae737ecb",
            "40f52f76468f417e9af588872fb076b7",
            "3670b22b8c2f43e58b064dd5a68040cf",
            "2dfe150267eb4c0a8d9969077ff49483",
            "b7c924e5b9aa4f75ab37f9438a1d5f40",
            "7d4b44cfdda04f5e9a45f4c22c2a6f69",
            "9a6c2170ca9643d08ee862a794ba821c",
            "76962ad49d2a4c09aea436740f6d7600",
            "e7521ceac58b47b9a38fe2ad8de49c50"
          ]
        },
        "outputId": "03db8c58-8350-4c7a-b895-ac371852e14d"
      },
      "execution_count": null,
      "outputs": [
        {
          "output_type": "display_data",
          "data": {
            "text/plain": [
              "Downloading:   0%|          | 0.00/47.4M [00:00<?, ?B/s]"
            ],
            "application/vnd.jupyter.widget-view+json": {
              "version_major": 2,
              "version_minor": 0,
              "model_id": "9c51e2c3239648619e49b6e4ff5f92e1"
            }
          },
          "metadata": {}
        },
        {
          "output_type": "stream",
          "name": "stderr",
          "text": [
            " 33%|███▎      | 1683/5048 [02:26<04:31, 12.39it/s]"
          ]
        },
        {
          "output_type": "stream",
          "name": "stdout",
          "text": [
            "\n",
            "Iteration 1682/5048 of epoch 1 complete. Loss : 0.3737538158893585 \n",
            "Training Accuracy : 81.25 %\n"
          ]
        },
        {
          "output_type": "stream",
          "name": "stderr",
          "text": [
            " 67%|██████▋   | 3365/5048 [04:52<02:30, 11.17it/s]"
          ]
        },
        {
          "output_type": "stream",
          "name": "stdout",
          "text": [
            "\n",
            "Iteration 3364/5048 of epoch 1 complete. Loss : 0.36266887187957764 \n",
            "Training Accuracy : 68.75 %\n"
          ]
        },
        {
          "output_type": "stream",
          "name": "stderr",
          "text": [
            "100%|██████████| 5048/5048 [07:14<00:00, 13.31it/s]"
          ]
        },
        {
          "output_type": "stream",
          "name": "stdout",
          "text": [
            "\n",
            "Iteration 5046/5048 of epoch 1 complete. Loss : 0.4036363661289215 \n",
            "Training Accuracy : 68.75 %\n"
          ]
        },
        {
          "output_type": "stream",
          "name": "stderr",
          "text": [
            "100%|██████████| 5048/5048 [07:14<00:00, 11.62it/s]\n",
            "  0%|          | 0/1426 [00:00<?, ?it/s]/usr/local/lib/python3.7/dist-packages/torch/utils/data/dataloader.py:566: UserWarning: This DataLoader will create 5 worker processes in total. Our suggested max number of worker in current system is 2, which is smaller than what this DataLoader is going to create. Please be aware that excessive worker creation might get DataLoader running slow or even freeze, lower the worker number to avoid potential slowness/freeze if necessary.\n",
            "  cpuset_checked))\n",
            " 11%|█         | 157/1426 [00:23<03:05,  6.84it/s]"
          ]
        }
      ]
    },
    {
      "cell_type": "markdown",
      "source": [
        "## Training Output Graphs:"
      ],
      "metadata": {
        "id": "QQULDYdSQcE2"
      }
    },
    {
      "cell_type": "code",
      "source": [
        "print(\"Out put Graphs for: \")\n",
        "print(\"\\t Bert Model: \", Config.bert_model)\n",
        "print(\"\\t Model Version: \", Config.bert_version)\n",
        "#plotting\n",
        "checkpoint.show_loss(train_losses, val_losses)\n",
        "checkpoint.show_accuracy(train_acc, val_acc)"
      ],
      "metadata": {
        "id": "DmQHwkZUbsFf",
        "colab": {
          "base_uri": "https://localhost:8080/",
          "height": 597
        },
        "outputId": "a70115e7-9016-4f2a-a1c7-a7f761d44523"
      },
      "execution_count": null,
      "outputs": [
        {
          "output_type": "stream",
          "name": "stdout",
          "text": [
            "Out put Graphs for: \n",
            "\t Bert Model:  albert-base-v2\n",
            "\t Model Version:  2\n"
          ]
        },
        {
          "output_type": "display_data",
          "data": {
            "text/plain": [
              "<Figure size 432x288 with 1 Axes>"
            ],
            "image/png": "[encoded data removed]"
          },
          "metadata": {
            "needs_background": "light"
          }
        },
        {
          "output_type": "display_data",
          "data": {
            "text/plain": [
              "<Figure size 432x288 with 1 Axes>"
            ],
            "image/png": "[encoded data removed]"
          },
          "metadata": {
            "needs_background": "light"
          }
        }
      ]
    },
    {
      "cell_type": "markdown",
      "source": [
        "## Test Phase"
      ],
      "metadata": {
        "id": "zuigAQfu_A4O"
      }
    },
    {
      "cell_type": "markdown",
      "metadata": {
        "id": "cWv_QlzTBVc6"
      },
      "source": [
        "# Preparing Test Dataset"
      ]
    },
    {
      "cell_type": "code",
      "source": [
        "# Generate The test Dataset from Scratch\n",
        "testData = Kialo_GeneralDF.main(\"/content/drive/MyDrive/ColabNotebooks/dataset/test\", \"testData\")\n",
        "test_pair = GeneralDF_SentPairDF.main(\"/content/drive/MyDrive/ColabNotebooks/dataframe/testData.pkl\", \"testPair\")"
      ],
      "metadata": {
        "id": "x_zgeEFG97hC",
        "colab": {
          "base_uri": "https://localhost:8080/"
        },
        "outputId": "d78b64f4-2fc7-45f4-9d0d-dbc5e0413969"
      },
      "execution_count": null,
      "outputs": [
        {
          "output_type": "stream",
          "name": "stdout",
          "text": [
            "UPLOADING DATASET FROM FOLDER.........\n",
            "\t Argument Pool Count \n",
            "\t testData  size:  7269\n",
            "\n",
            "testPair size:  10309\n",
            "\t 0 => [YES NEXT ARGUMENT] 1 => [NOT NEXT ARGUMENT]\n",
            "1    5158\n",
            "0    5151\n",
            "Name: label, dtype: int64\n"
          ]
        }
      ]
    },
    {
      "cell_type": "markdown",
      "source": [
        "## Already prepared Test Dataset"
      ],
      "metadata": {
        "id": "KgGSG_O_M0AB"
      }
    },
    {
      "cell_type": "code",
      "source": [
        "from pickle import NONE\n",
        "path = os.path.join(folder, \"testPair.pkl\")\n",
        "Data = pd.read_pickle(path)\n",
        "test_pair = Data.drop(['index', 'position1', 'position2'], axis = 1)\n",
        "print('Test dataset size: ', len(test_pair))"
      ],
      "metadata": {
        "colab": {
          "base_uri": "https://localhost:8080/"
        },
        "id": "cciYFPCpMyhl",
        "outputId": "cf8e6cfb-4139-4c41-be27-0f5f52edb6b0"
      },
      "execution_count": null,
      "outputs": [
        {
          "output_type": "stream",
          "name": "stdout",
          "text": [
            "Test dataset size:  10309\n"
          ]
        }
      ]
    },
    {
      "cell_type": "markdown",
      "source": [
        "## Setting output directory and saved Model weights"
      ],
      "metadata": {
        "id": "TGJwbhu3N8kJ"
      }
    },
    {
      "cell_type": "code",
      "source": [
        "print(\"Creation of the results' folder to store the output of the models\")\n",
        "!mkdir results\n",
        "\n",
        "path_to_output_file = '/content/drive/MyDrive/ColabNotebooks/results/v_{}_{}_output.txt'.format(Config.bert_version, Config.bert_model)\n",
        "checkpoint_fpath = '/content/drive/MyDrive/ColabNotebooks/models/v_{}_{}.pth'.format(Config.bert_version, Config.bert_model)  \n"
      ],
      "metadata": {
        "colab": {
          "base_uri": "https://localhost:8080/"
        },
        "id": "PZquttBz_AK3",
        "outputId": "7680995a-b70f-4c18-e74f-cd94da314853"
      },
      "execution_count": null,
      "outputs": [
        {
          "output_type": "stream",
          "name": "stdout",
          "text": [
            "Creation of the results' folder to store the output of the models\n",
            "mkdir: cannot create directory ‘results’: File exists\n"
          ]
        }
      ]
    },
    {
      "cell_type": "markdown",
      "source": [
        "## Create a fresh Model."
      ],
      "metadata": {
        "id": "G_jXLH587LEg"
      }
    },
    {
      "cell_type": "code",
      "source": [
        "## Generate Dataloader from Test dataset.\n",
        "print(\"Reading test data...\")\n",
        "test_set = CustomDataset(test_pair, Config.maxlen, Config.with_labels, Config.bert_model)\n",
        "test_loader = DataLoader(test_set, batch_size=Config.bs, num_workers=5)\n",
        "\n",
        "# Un comment the version of the model you want to use.\n",
        "#model_test = PairClrBaseModel(Config.bert_model, freeze_bert=Config.freeze_bert) # base version 0\n",
        "#model_test = PairClassifierPLSTM(Config.bert_model, freeze_bert=Config.freeze_bert) # version 1 [LSTM]\n",
        "model_test = PairClassifierPGRU(Config.bert_model, freeze_bert=Config.freeze_bert) # version 2 [GRU]"
      ],
      "metadata": {
        "colab": {
          "base_uri": "https://localhost:8080/"
        },
        "id": "uuRLL6WM_dLH",
        "outputId": "c23b6aa4-0516-4865-9fd8-fb0dd2a62131"
      },
      "execution_count": null,
      "outputs": [
        {
          "output_type": "stream",
          "name": "stdout",
          "text": [
            "Reading test data...\n"
          ]
        },
        {
          "output_type": "stream",
          "name": "stderr",
          "text": [
            "/usr/local/lib/python3.7/dist-packages/torch/utils/data/dataloader.py:566: UserWarning: This DataLoader will create 5 worker processes in total. Our suggested max number of worker in current system is 4, which is smaller than what this DataLoader is going to create. Please be aware that excessive worker creation might get DataLoader running slow or even freeze, lower the worker number to avoid potential slowness/freeze if necessary.\n",
            "  cpuset_checked))\n"
          ]
        }
      ]
    },
    {
      "cell_type": "markdown",
      "source": [
        "## Loading New Model Weights from saved best model status to device."
      ],
      "metadata": {
        "id": "HiYwFQto6-ub"
      }
    },
    {
      "cell_type": "code",
      "source": [
        "print(\"Loading the weights of the model\")\n",
        "model_test= checkpoint.load(checkpoint_fpath, model_test, Config.criterion)\n",
        "model_test.to(Config.device)"
      ],
      "metadata": {
        "id": "NSdTG6zGtH2u",
        "colab": {
          "base_uri": "https://localhost:8080/"
        },
        "outputId": "4187a4fc-5529-435c-acb3-692cf028bd92"
      },
      "execution_count": null,
      "outputs": [
        {
          "output_type": "stream",
          "name": "stdout",
          "text": [
            "Loading the weights of the model\n"
          ]
        },
        {
          "output_type": "execute_result",
          "data": {
            "text/plain": [
              "PairClassifierPGRU(\n",
              "  (bert_layer): AlbertModel(\n",
              "    (embeddings): AlbertEmbeddings(\n",
              "      (word_embeddings): Embedding(30000, 128, padding_idx=0)\n",
              "      (position_embeddings): Embedding(512, 128)\n",
              "      (token_type_embeddings): Embedding(2, 128)\n",
              "      (LayerNorm): LayerNorm((128,), eps=1e-12, elementwise_affine=True)\n",
              "      (dropout): Dropout(p=0, inplace=False)\n",
              "    )\n",
              "    (encoder): AlbertTransformer(\n",
              "      (embedding_hidden_mapping_in): Linear(in_features=128, out_features=768, bias=True)\n",
              "      (albert_layer_groups): ModuleList(\n",
              "        (0): AlbertLayerGroup(\n",
              "          (albert_layers): ModuleList(\n",
              "            (0): AlbertLayer(\n",
              "              (full_layer_layer_norm): LayerNorm((768,), eps=1e-12, elementwise_affine=True)\n",
              "              (attention): AlbertAttention(\n",
              "                (query): Linear(in_features=768, out_features=768, bias=True)\n",
              "                (key): Linear(in_features=768, out_features=768, bias=True)\n",
              "                (value): Linear(in_features=768, out_features=768, bias=True)\n",
              "                (dropout): Dropout(p=0, inplace=False)\n",
              "                (attention_dropout): Dropout(p=0, inplace=False)\n",
              "                (output_dropout): Dropout(p=0, inplace=False)\n",
              "                (dense): Linear(in_features=768, out_features=768, bias=True)\n",
              "                (LayerNorm): LayerNorm((768,), eps=1e-12, elementwise_affine=True)\n",
              "              )\n",
              "              (ffn): Linear(in_features=768, out_features=3072, bias=True)\n",
              "              (ffn_output): Linear(in_features=3072, out_features=768, bias=True)\n",
              "              (dropout): Dropout(p=0, inplace=False)\n",
              "            )\n",
              "          )\n",
              "        )\n",
              "      )\n",
              "    )\n",
              "    (pooler): Linear(in_features=768, out_features=768, bias=True)\n",
              "    (pooler_activation): Tanh()\n",
              "  )\n",
              "  (gluEncoder): GRU(768, 384, batch_first=True, bidirectional=True)\n",
              "  (gluDecoder): GRU(768, 384, batch_first=True, bidirectional=True)\n",
              "  (cls_layer): Linear(in_features=768, out_features=1, bias=True)\n",
              "  (dropout): Dropout(p=0.1, inplace=False)\n",
              ")"
            ]
          },
          "metadata": {},
          "execution_count": 15
        }
      ]
    },
    {
      "cell_type": "markdown",
      "source": [
        "## Use the model to get Predictions"
      ],
      "metadata": {
        "id": "89ekP7oraR86"
      }
    },
    {
      "cell_type": "code",
      "source": [
        "import output # I defined this file to use the new loaded model to predict the output \n",
        "True_value = test_pair['label']\n",
        "print(\"Predicting on test data...\")\n",
        "# set the with_labels parameter to False if your want to get predictions on a dataset without labels\n",
        "pred_value = output.test_phase(net=model_test, device=Config.device, dataloader=test_loader, with_labels=Config.with_labels,\n",
        "                result_file=path_to_output_file)"
      ],
      "metadata": {
        "id": "Yd9zljHhP6ij",
        "colab": {
          "base_uri": "https://localhost:8080/"
        },
        "outputId": "0a6d0082-a2e5-44b6-cbe2-db75a9b7c41e"
      },
      "execution_count": null,
      "outputs": [
        {
          "output_type": "stream",
          "name": "stdout",
          "text": [
            "Predicting on test data...\n"
          ]
        },
        {
          "output_type": "stream",
          "name": "stderr",
          "text": [
            "100%|██████████| 645/645 [01:32<00:00,  6.97it/s]"
          ]
        },
        {
          "output_type": "stream",
          "name": "stdout",
          "text": [
            "\n",
            "Predictions are available in : /content/drive/MyDrive/ColabNotebooks/results/v_2_albert-base-v2_output.txt\n"
          ]
        },
        {
          "output_type": "stream",
          "name": "stderr",
          "text": [
            "\n"
          ]
        }
      ]
    },
    {
      "cell_type": "markdown",
      "source": [
        "## Analysis on the output generated from the Test Dataset "
      ],
      "metadata": {
        "id": "UXHDIDnTaa5e"
      }
    },
    {
      "cell_type": "markdown",
      "source": [
        "# Confusion Matrix"
      ],
      "metadata": {
        "id": "Hea9tR7fauYQ"
      }
    },
    {
      "cell_type": "code",
      "source": [
        "import matplotlib.pyplot as plt\n",
        "from sklearn.datasets import make_classification\n",
        "from sklearn.metrics import confusion_matrix, ConfusionMatrixDisplay\n",
        "cm = confusion_matrix(True_value, pred_value, labels=[0, 1])\n",
        "disp = ConfusionMatrixDisplay(confusion_matrix=cm, display_labels=[0, 1])\n",
        "disp.plot()\n",
        "plt.show()"
      ],
      "metadata": {
        "colab": {
          "base_uri": "https://localhost:8080/",
          "height": 279
        },
        "id": "QbYcLExbVOKE",
        "outputId": "8c9e5433-2b91-4007-cabc-16474390771b"
      },
      "execution_count": null,
      "outputs": [
        {
          "output_type": "display_data",
          "data": {
            "text/plain": [
              "<Figure size 432x288 with 2 Axes>"
            ],
            "image/png": "[encoded data removed]"
          },
          "metadata": {
            "needs_background": "light"
          }
        }
      ]
    },
    {
      "cell_type": "markdown",
      "source": [
        "# Classification report"
      ],
      "metadata": {
        "id": "IIn8hgWBbVi9"
      }
    },
    {
      "cell_type": "code",
      "source": [
        "from sklearn.metrics import classification_report, f1_score\n",
        "target_names = ['IS NEXT ARGUMENT', 'IS NOT NEXT ARGUMENT']\n",
        "print(classification_report(True_value, pred_value, target_names=target_names))"
      ],
      "metadata": {
        "colab": {
          "base_uri": "https://localhost:8080/"
        },
        "id": "QZqvICq2baGR",
        "outputId": "ce1caf3f-6afa-4b29-87e4-ea76af9961f0"
      },
      "execution_count": null,
      "outputs": [
        {
          "output_type": "stream",
          "name": "stdout",
          "text": [
            "                      precision    recall  f1-score   support\n",
            "\n",
            "    IS NEXT ARGUMENT       0.76      0.77      0.76      5151\n",
            "IS NOT NEXT ARGUMENT       0.77      0.75      0.76      5158\n",
            "\n",
            "            accuracy                           0.76     10309\n",
            "           macro avg       0.76      0.76      0.76     10309\n",
            "        weighted avg       0.76      0.76      0.76     10309\n",
            "\n"
          ]
        }
      ]
    },
    {
      "cell_type": "code",
      "source": [],
      "metadata": {
        "id": "AYPY81TBCFXf"
      },
      "execution_count": null,
      "outputs": []
    }
  ],
  "metadata": {
    "colab": {
      "collapsed_sections": [
        "FpTpLib-_yCJ",
        "-9oCNT03AmRr",
        "cBlQb2k6CC4L",
        "On7gmRPTEF7I",
        "QQULDYdSQcE2",
        "zuigAQfu_A4O",
        "KgGSG_O_M0AB",
        "TGJwbhu3N8kJ",
        "G_jXLH587LEg",
        "HiYwFQto6-ub",
        "89ekP7oraR86",
        "UXHDIDnTaa5e"
      ],
      "provenance": [],
      "machine_shape": "hm"
    },
    "gpuClass": "standard",
    "kernelspec": {
      "display_name": "Python 3",
      "name": "python3"
    },
    "language_info": {
      "name": "python"
    },
    "accelerator": "GPU",
    "widgets": {
      "application/vnd.jupyter.widget-state+json": {
        "c41f3e51a1a24cc0a5bdbd7fbdbd66d6": {
          "model_module": "@jupyter-widgets/controls",
          "model_name": "HBoxModel",
          "model_module_version": "1.5.0",
          "state": {
            "_dom_classes": [],
            "_model_module": "@jupyter-widgets/controls",
            "_model_module_version": "1.5.0",
            "_model_name": "HBoxModel",
            "_view_count": null,
            "_view_module": "@jupyter-widgets/controls",
            "_view_module_version": "1.5.0",
            "_view_name": "HBoxView",
            "box_style": "",
            "children": [
              "IPY_MODEL_014d19bb7faf407d8620fc7069758250",
              "IPY_MODEL_0da00298a3054d229d3aab4fcc88106f",
              "IPY_MODEL_f2bcee7005b844a1931f2c4e098498a2"
            ],
            "layout": "IPY_MODEL_fc635137a6014b9190e7932b7bf53194"
          }
        },
        "014d19bb7faf407d8620fc7069758250": {
          "model_module": "@jupyter-widgets/controls",
          "model_name": "HTMLModel",
          "model_module_version": "1.5.0",
          "state": {
            "_dom_classes": [],
            "_model_module": "@jupyter-widgets/controls",
            "_model_module_version": "1.5.0",
            "_model_name": "HTMLModel",
            "_view_count": null,
            "_view_module": "@jupyter-widgets/controls",
            "_view_module_version": "1.5.0",
            "_view_name": "HTMLView",
            "description": "",
            "description_tooltip": null,
            "layout": "IPY_MODEL_a8ca6142e9724a86ae476d2f04ef503e",
            "placeholder": "​",
            "style": "IPY_MODEL_7a5fd14884d54afb904b0fcafee418aa",
            "value": "Downloading: 100%"
          }
        },
        "0da00298a3054d229d3aab4fcc88106f": {
          "model_module": "@jupyter-widgets/controls",
          "model_name": "FloatProgressModel",
          "model_module_version": "1.5.0",
          "state": {
            "_dom_classes": [],
            "_model_module": "@jupyter-widgets/controls",
            "_model_module_version": "1.5.0",
            "_model_name": "FloatProgressModel",
            "_view_count": null,
            "_view_module": "@jupyter-widgets/controls",
            "_view_module_version": "1.5.0",
            "_view_name": "ProgressView",
            "bar_style": "success",
            "description": "",
            "description_tooltip": null,
            "layout": "IPY_MODEL_ced54185fb9b4aff965d02b9128aee91",
            "max": 684,
            "min": 0,
            "orientation": "horizontal",
            "style": "IPY_MODEL_c116726922eb4944b714187f795874ca",
            "value": 684
          }
        },
        "f2bcee7005b844a1931f2c4e098498a2": {
          "model_module": "@jupyter-widgets/controls",
          "model_name": "HTMLModel",
          "model_module_version": "1.5.0",
          "state": {
            "_dom_classes": [],
            "_model_module": "@jupyter-widgets/controls",
            "_model_module_version": "1.5.0",
            "_model_name": "HTMLModel",
            "_view_count": null,
            "_view_module": "@jupyter-widgets/controls",
            "_view_module_version": "1.5.0",
            "_view_name": "HTMLView",
            "description": "",
            "description_tooltip": null,
            "layout": "IPY_MODEL_22d040ea43d74e40acd177fcaec63ab8",
            "placeholder": "​",
            "style": "IPY_MODEL_18ae365e81b2431a8062720a2a80a0b8",
            "value": " 684/684 [00:00&lt;00:00, 15.9kB/s]"
          }
        },
        "fc635137a6014b9190e7932b7bf53194": {
          "model_module": "@jupyter-widgets/base",
          "model_name": "LayoutModel",
          "model_module_version": "1.2.0",
          "state": {
            "_model_module": "@jupyter-widgets/base",
            "_model_module_version": "1.2.0",
            "_model_name": "LayoutModel",
            "_view_count": null,
            "_view_module": "@jupyter-widgets/base",
            "_view_module_version": "1.2.0",
            "_view_name": "LayoutView",
            "align_content": null,
            "align_items": null,
            "align_self": null,
            "border": null,
            "bottom": null,
            "display": null,
            "flex": null,
            "flex_flow": null,
            "grid_area": null,
            "grid_auto_columns": null,
            "grid_auto_flow": null,
            "grid_auto_rows": null,
            "grid_column": null,
            "grid_gap": null,
            "grid_row": null,
            "grid_template_areas": null,
            "grid_template_columns": null,
            "grid_template_rows": null,
            "height": null,
            "justify_content": null,
            "justify_items": null,
            "left": null,
            "margin": null,
            "max_height": null,
            "max_width": null,
            "min_height": null,
            "min_width": null,
            "object_fit": null,
            "object_position": null,
            "order": null,
            "overflow": null,
            "overflow_x": null,
            "overflow_y": null,
            "padding": null,
            "right": null,
            "top": null,
            "visibility": null,
            "width": null
          }
        },
        "a8ca6142e9724a86ae476d2f04ef503e": {
          "model_module": "@jupyter-widgets/base",
          "model_name": "LayoutModel",
          "model_module_version": "1.2.0",
          "state": {
            "_model_module": "@jupyter-widgets/base",
            "_model_module_version": "1.2.0",
            "_model_name": "LayoutModel",
            "_view_count": null,
            "_view_module": "@jupyter-widgets/base",
            "_view_module_version": "1.2.0",
            "_view_name": "LayoutView",
            "align_content": null,
            "align_items": null,
            "align_self": null,
            "border": null,
            "bottom": null,
            "display": null,
            "flex": null,
            "flex_flow": null,
            "grid_area": null,
            "grid_auto_columns": null,
            "grid_auto_flow": null,
            "grid_auto_rows": null,
            "grid_column": null,
            "grid_gap": null,
            "grid_row": null,
            "grid_template_areas": null,
            "grid_template_columns": null,
            "grid_template_rows": null,
            "height": null,
            "justify_content": null,
            "justify_items": null,
            "left": null,
            "margin": null,
            "max_height": null,
            "max_width": null,
            "min_height": null,
            "min_width": null,
            "object_fit": null,
            "object_position": null,
            "order": null,
            "overflow": null,
            "overflow_x": null,
            "overflow_y": null,
            "padding": null,
            "right": null,
            "top": null,
            "visibility": null,
            "width": null
          }
        },
        "7a5fd14884d54afb904b0fcafee418aa": {
          "model_module": "@jupyter-widgets/controls",
          "model_name": "DescriptionStyleModel",
          "model_module_version": "1.5.0",
          "state": {
            "_model_module": "@jupyter-widgets/controls",
            "_model_module_version": "1.5.0",
            "_model_name": "DescriptionStyleModel",
            "_view_count": null,
            "_view_module": "@jupyter-widgets/base",
            "_view_module_version": "1.2.0",
            "_view_name": "StyleView",
            "description_width": ""
          }
        },
        "ced54185fb9b4aff965d02b9128aee91": {
          "model_module": "@jupyter-widgets/base",
          "model_name": "LayoutModel",
          "model_module_version": "1.2.0",
          "state": {
            "_model_module": "@jupyter-widgets/base",
            "_model_module_version": "1.2.0",
            "_model_name": "LayoutModel",
            "_view_count": null,
            "_view_module": "@jupyter-widgets/base",
            "_view_module_version": "1.2.0",
            "_view_name": "LayoutView",
            "align_content": null,
            "align_items": null,
            "align_self": null,
            "border": null,
            "bottom": null,
            "display": null,
            "flex": null,
            "flex_flow": null,
            "grid_area": null,
            "grid_auto_columns": null,
            "grid_auto_flow": null,
            "grid_auto_rows": null,
            "grid_column": null,
            "grid_gap": null,
            "grid_row": null,
            "grid_template_areas": null,
            "grid_template_columns": null,
            "grid_template_rows": null,
            "height": null,
            "justify_content": null,
            "justify_items": null,
            "left": null,
            "margin": null,
            "max_height": null,
            "max_width": null,
            "min_height": null,
            "min_width": null,
            "object_fit": null,
            "object_position": null,
            "order": null,
            "overflow": null,
            "overflow_x": null,
            "overflow_y": null,
            "padding": null,
            "right": null,
            "top": null,
            "visibility": null,
            "width": null
          }
        },
        "c116726922eb4944b714187f795874ca": {
          "model_module": "@jupyter-widgets/controls",
          "model_name": "ProgressStyleModel",
          "model_module_version": "1.5.0",
          "state": {
            "_model_module": "@jupyter-widgets/controls",
            "_model_module_version": "1.5.0",
            "_model_name": "ProgressStyleModel",
            "_view_count": null,
            "_view_module": "@jupyter-widgets/base",
            "_view_module_version": "1.2.0",
            "_view_name": "StyleView",
            "bar_color": null,
            "description_width": ""
          }
        },
        "22d040ea43d74e40acd177fcaec63ab8": {
          "model_module": "@jupyter-widgets/base",
          "model_name": "LayoutModel",
          "model_module_version": "1.2.0",
          "state": {
            "_model_module": "@jupyter-widgets/base",
            "_model_module_version": "1.2.0",
            "_model_name": "LayoutModel",
            "_view_count": null,
            "_view_module": "@jupyter-widgets/base",
            "_view_module_version": "1.2.0",
            "_view_name": "LayoutView",
            "align_content": null,
            "align_items": null,
            "align_self": null,
            "border": null,
            "bottom": null,
            "display": null,
            "flex": null,
            "flex_flow": null,
            "grid_area": null,
            "grid_auto_columns": null,
            "grid_auto_flow": null,
            "grid_auto_rows": null,
            "grid_column": null,
            "grid_gap": null,
            "grid_row": null,
            "grid_template_areas": null,
            "grid_template_columns": null,
            "grid_template_rows": null,
            "height": null,
            "justify_content": null,
            "justify_items": null,
            "left": null,
            "margin": null,
            "max_height": null,
            "max_width": null,
            "min_height": null,
            "min_width": null,
            "object_fit": null,
            "object_position": null,
            "order": null,
            "overflow": null,
            "overflow_x": null,
            "overflow_y": null,
            "padding": null,
            "right": null,
            "top": null,
            "visibility": null,
            "width": null
          }
        },
        "18ae365e81b2431a8062720a2a80a0b8": {
          "model_module": "@jupyter-widgets/controls",
          "model_name": "DescriptionStyleModel",
          "model_module_version": "1.5.0",
          "state": {
            "_model_module": "@jupyter-widgets/controls",
            "_model_module_version": "1.5.0",
            "_model_name": "DescriptionStyleModel",
            "_view_count": null,
            "_view_module": "@jupyter-widgets/base",
            "_view_module_version": "1.2.0",
            "_view_name": "StyleView",
            "description_width": ""
          }
        },
        "2f44075645b140ce8519e8f3fb6d1a28": {
          "model_module": "@jupyter-widgets/controls",
          "model_name": "HBoxModel",
          "model_module_version": "1.5.0",
          "state": {
            "_dom_classes": [],
            "_model_module": "@jupyter-widgets/controls",
            "_model_module_version": "1.5.0",
            "_model_name": "HBoxModel",
            "_view_count": null,
            "_view_module": "@jupyter-widgets/controls",
            "_view_module_version": "1.5.0",
            "_view_name": "HBoxView",
            "box_style": "",
            "children": [
              "IPY_MODEL_9353da0e30ef4f4c8dd1a948c51d6e80",
              "IPY_MODEL_e921398cba6c4c9d81fd815ea5eff52e",
              "IPY_MODEL_791008d283204249b9bb12ec5f055148"
            ],
            "layout": "IPY_MODEL_6f8cfe595b774274b92f489f674c2130"
          }
        },
        "9353da0e30ef4f4c8dd1a948c51d6e80": {
          "model_module": "@jupyter-widgets/controls",
          "model_name": "HTMLModel",
          "model_module_version": "1.5.0",
          "state": {
            "_dom_classes": [],
            "_model_module": "@jupyter-widgets/controls",
            "_model_module_version": "1.5.0",
            "_model_name": "HTMLModel",
            "_view_count": null,
            "_view_module": "@jupyter-widgets/controls",
            "_view_module_version": "1.5.0",
            "_view_name": "HTMLView",
            "description": "",
            "description_tooltip": null,
            "layout": "IPY_MODEL_620b49e8c89f4db99514666030770d25",
            "placeholder": "​",
            "style": "IPY_MODEL_dd5540155b63477da5f0833f7ddf8e2a",
            "value": "Downloading: 100%"
          }
        },
        "e921398cba6c4c9d81fd815ea5eff52e": {
          "model_module": "@jupyter-widgets/controls",
          "model_name": "FloatProgressModel",
          "model_module_version": "1.5.0",
          "state": {
            "_dom_classes": [],
            "_model_module": "@jupyter-widgets/controls",
            "_model_module_version": "1.5.0",
            "_model_name": "FloatProgressModel",
            "_view_count": null,
            "_view_module": "@jupyter-widgets/controls",
            "_view_module_version": "1.5.0",
            "_view_name": "ProgressView",
            "bar_style": "success",
            "description": "",
            "description_tooltip": null,
            "layout": "IPY_MODEL_7adac146f7d54db08d236bd31b59fce8",
            "max": 760289,
            "min": 0,
            "orientation": "horizontal",
            "style": "IPY_MODEL_21a6861075d44bae986956daaea72a64",
            "value": 760289
          }
        },
        "791008d283204249b9bb12ec5f055148": {
          "model_module": "@jupyter-widgets/controls",
          "model_name": "HTMLModel",
          "model_module_version": "1.5.0",
          "state": {
            "_dom_classes": [],
            "_model_module": "@jupyter-widgets/controls",
            "_model_module_version": "1.5.0",
            "_model_name": "HTMLModel",
            "_view_count": null,
            "_view_module": "@jupyter-widgets/controls",
            "_view_module_version": "1.5.0",
            "_view_name": "HTMLView",
            "description": "",
            "description_tooltip": null,
            "layout": "IPY_MODEL_3a066489b89f479ea371f640b84508ec",
            "placeholder": "​",
            "style": "IPY_MODEL_6eb19362cbf049f6bc32a18df4bc24b5",
            "value": " 760k/760k [00:01&lt;00:00, 735kB/s]"
          }
        },
        "6f8cfe595b774274b92f489f674c2130": {
          "model_module": "@jupyter-widgets/base",
          "model_name": "LayoutModel",
          "model_module_version": "1.2.0",
          "state": {
            "_model_module": "@jupyter-widgets/base",
            "_model_module_version": "1.2.0",
            "_model_name": "LayoutModel",
            "_view_count": null,
            "_view_module": "@jupyter-widgets/base",
            "_view_module_version": "1.2.0",
            "_view_name": "LayoutView",
            "align_content": null,
            "align_items": null,
            "align_self": null,
            "border": null,
            "bottom": null,
            "display": null,
            "flex": null,
            "flex_flow": null,
            "grid_area": null,
            "grid_auto_columns": null,
            "grid_auto_flow": null,
            "grid_auto_rows": null,
            "grid_column": null,
            "grid_gap": null,
            "grid_row": null,
            "grid_template_areas": null,
            "grid_template_columns": null,
            "grid_template_rows": null,
            "height": null,
            "justify_content": null,
            "justify_items": null,
            "left": null,
            "margin": null,
            "max_height": null,
            "max_width": null,
            "min_height": null,
            "min_width": null,
            "object_fit": null,
            "object_position": null,
            "order": null,
            "overflow": null,
            "overflow_x": null,
            "overflow_y": null,
            "padding": null,
            "right": null,
            "top": null,
            "visibility": null,
            "width": null
          }
        },
        "620b49e8c89f4db99514666030770d25": {
          "model_module": "@jupyter-widgets/base",
          "model_name": "LayoutModel",
          "model_module_version": "1.2.0",
          "state": {
            "_model_module": "@jupyter-widgets/base",
            "_model_module_version": "1.2.0",
            "_model_name": "LayoutModel",
            "_view_count": null,
            "_view_module": "@jupyter-widgets/base",
            "_view_module_version": "1.2.0",
            "_view_name": "LayoutView",
            "align_content": null,
            "align_items": null,
            "align_self": null,
            "border": null,
            "bottom": null,
            "display": null,
            "flex": null,
            "flex_flow": null,
            "grid_area": null,
            "grid_auto_columns": null,
            "grid_auto_flow": null,
            "grid_auto_rows": null,
            "grid_column": null,
            "grid_gap": null,
            "grid_row": null,
            "grid_template_areas": null,
            "grid_template_columns": null,
            "grid_template_rows": null,
            "height": null,
            "justify_content": null,
            "justify_items": null,
            "left": null,
            "margin": null,
            "max_height": null,
            "max_width": null,
            "min_height": null,
            "min_width": null,
            "object_fit": null,
            "object_position": null,
            "order": null,
            "overflow": null,
            "overflow_x": null,
            "overflow_y": null,
            "padding": null,
            "right": null,
            "top": null,
            "visibility": null,
            "width": null
          }
        },
        "dd5540155b63477da5f0833f7ddf8e2a": {
          "model_module": "@jupyter-widgets/controls",
          "model_name": "DescriptionStyleModel",
          "model_module_version": "1.5.0",
          "state": {
            "_model_module": "@jupyter-widgets/controls",
            "_model_module_version": "1.5.0",
            "_model_name": "DescriptionStyleModel",
            "_view_count": null,
            "_view_module": "@jupyter-widgets/base",
            "_view_module_version": "1.2.0",
            "_view_name": "StyleView",
            "description_width": ""
          }
        },
        "7adac146f7d54db08d236bd31b59fce8": {
          "model_module": "@jupyter-widgets/base",
          "model_name": "LayoutModel",
          "model_module_version": "1.2.0",
          "state": {
            "_model_module": "@jupyter-widgets/base",
            "_model_module_version": "1.2.0",
            "_model_name": "LayoutModel",
            "_view_count": null,
            "_view_module": "@jupyter-widgets/base",
            "_view_module_version": "1.2.0",
            "_view_name": "LayoutView",
            "align_content": null,
            "align_items": null,
            "align_self": null,
            "border": null,
            "bottom": null,
            "display": null,
            "flex": null,
            "flex_flow": null,
            "grid_area": null,
            "grid_auto_columns": null,
            "grid_auto_flow": null,
            "grid_auto_rows": null,
            "grid_column": null,
            "grid_gap": null,
            "grid_row": null,
            "grid_template_areas": null,
            "grid_template_columns": null,
            "grid_template_rows": null,
            "height": null,
            "justify_content": null,
            "justify_items": null,
            "left": null,
            "margin": null,
            "max_height": null,
            "max_width": null,
            "min_height": null,
            "min_width": null,
            "object_fit": null,
            "object_position": null,
            "order": null,
            "overflow": null,
            "overflow_x": null,
            "overflow_y": null,
            "padding": null,
            "right": null,
            "top": null,
            "visibility": null,
            "width": null
          }
        },
        "21a6861075d44bae986956daaea72a64": {
          "model_module": "@jupyter-widgets/controls",
          "model_name": "ProgressStyleModel",
          "model_module_version": "1.5.0",
          "state": {
            "_model_module": "@jupyter-widgets/controls",
            "_model_module_version": "1.5.0",
            "_model_name": "ProgressStyleModel",
            "_view_count": null,
            "_view_module": "@jupyter-widgets/base",
            "_view_module_version": "1.2.0",
            "_view_name": "StyleView",
            "bar_color": null,
            "description_width": ""
          }
        },
        "3a066489b89f479ea371f640b84508ec": {
          "model_module": "@jupyter-widgets/base",
          "model_name": "LayoutModel",
          "model_module_version": "1.2.0",
          "state": {
            "_model_module": "@jupyter-widgets/base",
            "_model_module_version": "1.2.0",
            "_model_name": "LayoutModel",
            "_view_count": null,
            "_view_module": "@jupyter-widgets/base",
            "_view_module_version": "1.2.0",
            "_view_name": "LayoutView",
            "align_content": null,
            "align_items": null,
            "align_self": null,
            "border": null,
            "bottom": null,
            "display": null,
            "flex": null,
            "flex_flow": null,
            "grid_area": null,
            "grid_auto_columns": null,
            "grid_auto_flow": null,
            "grid_auto_rows": null,
            "grid_column": null,
            "grid_gap": null,
            "grid_row": null,
            "grid_template_areas": null,
            "grid_template_columns": null,
            "grid_template_rows": null,
            "height": null,
            "justify_content": null,
            "justify_items": null,
            "left": null,
            "margin": null,
            "max_height": null,
            "max_width": null,
            "min_height": null,
            "min_width": null,
            "object_fit": null,
            "object_position": null,
            "order": null,
            "overflow": null,
            "overflow_x": null,
            "overflow_y": null,
            "padding": null,
            "right": null,
            "top": null,
            "visibility": null,
            "width": null
          }
        },
        "6eb19362cbf049f6bc32a18df4bc24b5": {
          "model_module": "@jupyter-widgets/controls",
          "model_name": "DescriptionStyleModel",
          "model_module_version": "1.5.0",
          "state": {
            "_model_module": "@jupyter-widgets/controls",
            "_model_module_version": "1.5.0",
            "_model_name": "DescriptionStyleModel",
            "_view_count": null,
            "_view_module": "@jupyter-widgets/base",
            "_view_module_version": "1.2.0",
            "_view_name": "StyleView",
            "description_width": ""
          }
        },
        "9c51e2c3239648619e49b6e4ff5f92e1": {
          "model_module": "@jupyter-widgets/controls",
          "model_name": "HBoxModel",
          "model_module_version": "1.5.0",
          "state": {
            "_dom_classes": [],
            "_model_module": "@jupyter-widgets/controls",
            "_model_module_version": "1.5.0",
            "_model_name": "HBoxModel",
            "_view_count": null,
            "_view_module": "@jupyter-widgets/controls",
            "_view_module_version": "1.5.0",
            "_view_name": "HBoxView",
            "box_style": "",
            "children": [
              "IPY_MODEL_f4ce335d599f49b1a949c811d0a5c550",
              "IPY_MODEL_c86715434aab4882a601cf4dae737ecb",
              "IPY_MODEL_40f52f76468f417e9af588872fb076b7"
            ],
            "layout": "IPY_MODEL_3670b22b8c2f43e58b064dd5a68040cf"
          }
        },
        "f4ce335d599f49b1a949c811d0a5c550": {
          "model_module": "@jupyter-widgets/controls",
          "model_name": "HTMLModel",
          "model_module_version": "1.5.0",
          "state": {
            "_dom_classes": [],
            "_model_module": "@jupyter-widgets/controls",
            "_model_module_version": "1.5.0",
            "_model_name": "HTMLModel",
            "_view_count": null,
            "_view_module": "@jupyter-widgets/controls",
            "_view_module_version": "1.5.0",
            "_view_name": "HTMLView",
            "description": "",
            "description_tooltip": null,
            "layout": "IPY_MODEL_2dfe150267eb4c0a8d9969077ff49483",
            "placeholder": "​",
            "style": "IPY_MODEL_b7c924e5b9aa4f75ab37f9438a1d5f40",
            "value": "Downloading: 100%"
          }
        },
        "c86715434aab4882a601cf4dae737ecb": {
          "model_module": "@jupyter-widgets/controls",
          "model_name": "FloatProgressModel",
          "model_module_version": "1.5.0",
          "state": {
            "_dom_classes": [],
            "_model_module": "@jupyter-widgets/controls",
            "_model_module_version": "1.5.0",
            "_model_name": "FloatProgressModel",
            "_view_count": null,
            "_view_module": "@jupyter-widgets/controls",
            "_view_module_version": "1.5.0",
            "_view_name": "ProgressView",
            "bar_style": "success",
            "description": "",
            "description_tooltip": null,
            "layout": "IPY_MODEL_7d4b44cfdda04f5e9a45f4c22c2a6f69",
            "max": 47376696,
            "min": 0,
            "orientation": "horizontal",
            "style": "IPY_MODEL_9a6c2170ca9643d08ee862a794ba821c",
            "value": 47376696
          }
        },
        "40f52f76468f417e9af588872fb076b7": {
          "model_module": "@jupyter-widgets/controls",
          "model_name": "HTMLModel",
          "model_module_version": "1.5.0",
          "state": {
            "_dom_classes": [],
            "_model_module": "@jupyter-widgets/controls",
            "_model_module_version": "1.5.0",
            "_model_name": "HTMLModel",
            "_view_count": null,
            "_view_module": "@jupyter-widgets/controls",
            "_view_module_version": "1.5.0",
            "_view_name": "HTMLView",
            "description": "",
            "description_tooltip": null,
            "layout": "IPY_MODEL_76962ad49d2a4c09aea436740f6d7600",
            "placeholder": "​",
            "style": "IPY_MODEL_e7521ceac58b47b9a38fe2ad8de49c50",
            "value": " 47.4M/47.4M [00:00&lt;00:00, 53.4MB/s]"
          }
        },
        "3670b22b8c2f43e58b064dd5a68040cf": {
          "model_module": "@jupyter-widgets/base",
          "model_name": "LayoutModel",
          "model_module_version": "1.2.0",
          "state": {
            "_model_module": "@jupyter-widgets/base",
            "_model_module_version": "1.2.0",
            "_model_name": "LayoutModel",
            "_view_count": null,
            "_view_module": "@jupyter-widgets/base",
            "_view_module_version": "1.2.0",
            "_view_name": "LayoutView",
            "align_content": null,
            "align_items": null,
            "align_self": null,
            "border": null,
            "bottom": null,
            "display": null,
            "flex": null,
            "flex_flow": null,
            "grid_area": null,
            "grid_auto_columns": null,
            "grid_auto_flow": null,
            "grid_auto_rows": null,
            "grid_column": null,
            "grid_gap": null,
            "grid_row": null,
            "grid_template_areas": null,
            "grid_template_columns": null,
            "grid_template_rows": null,
            "height": null,
            "justify_content": null,
            "justify_items": null,
            "left": null,
            "margin": null,
            "max_height": null,
            "max_width": null,
            "min_height": null,
            "min_width": null,
            "object_fit": null,
            "object_position": null,
            "order": null,
            "overflow": null,
            "overflow_x": null,
            "overflow_y": null,
            "padding": null,
            "right": null,
            "top": null,
            "visibility": null,
            "width": null
          }
        },
        "2dfe150267eb4c0a8d9969077ff49483": {
          "model_module": "@jupyter-widgets/base",
          "model_name": "LayoutModel",
          "model_module_version": "1.2.0",
          "state": {
            "_model_module": "@jupyter-widgets/base",
            "_model_module_version": "1.2.0",
            "_model_name": "LayoutModel",
            "_view_count": null,
            "_view_module": "@jupyter-widgets/base",
            "_view_module_version": "1.2.0",
            "_view_name": "LayoutView",
            "align_content": null,
            "align_items": null,
            "align_self": null,
            "border": null,
            "bottom": null,
            "display": null,
            "flex": null,
            "flex_flow": null,
            "grid_area": null,
            "grid_auto_columns": null,
            "grid_auto_flow": null,
            "grid_auto_rows": null,
            "grid_column": null,
            "grid_gap": null,
            "grid_row": null,
            "grid_template_areas": null,
            "grid_template_columns": null,
            "grid_template_rows": null,
            "height": null,
            "justify_content": null,
            "justify_items": null,
            "left": null,
            "margin": null,
            "max_height": null,
            "max_width": null,
            "min_height": null,
            "min_width": null,
            "object_fit": null,
            "object_position": null,
            "order": null,
            "overflow": null,
            "overflow_x": null,
            "overflow_y": null,
            "padding": null,
            "right": null,
            "top": null,
            "visibility": null,
            "width": null
          }
        },
        "b7c924e5b9aa4f75ab37f9438a1d5f40": {
          "model_module": "@jupyter-widgets/controls",
          "model_name": "DescriptionStyleModel",
          "model_module_version": "1.5.0",
          "state": {
            "_model_module": "@jupyter-widgets/controls",
            "_model_module_version": "1.5.0",
            "_model_name": "DescriptionStyleModel",
            "_view_count": null,
            "_view_module": "@jupyter-widgets/base",
            "_view_module_version": "1.2.0",
            "_view_name": "StyleView",
            "description_width": ""
          }
        },
        "7d4b44cfdda04f5e9a45f4c22c2a6f69": {
          "model_module": "@jupyter-widgets/base",
          "model_name": "LayoutModel",
          "model_module_version": "1.2.0",
          "state": {
            "_model_module": "@jupyter-widgets/base",
            "_model_module_version": "1.2.0",
            "_model_name": "LayoutModel",
            "_view_count": null,
            "_view_module": "@jupyter-widgets/base",
            "_view_module_version": "1.2.0",
            "_view_name": "LayoutView",
            "align_content": null,
            "align_items": null,
            "align_self": null,
            "border": null,
            "bottom": null,
            "display": null,
            "flex": null,
            "flex_flow": null,
            "grid_area": null,
            "grid_auto_columns": null,
            "grid_auto_flow": null,
            "grid_auto_rows": null,
            "grid_column": null,
            "grid_gap": null,
            "grid_row": null,
            "grid_template_areas": null,
            "grid_template_columns": null,
            "grid_template_rows": null,
            "height": null,
            "justify_content": null,
            "justify_items": null,
            "left": null,
            "margin": null,
            "max_height": null,
            "max_width": null,
            "min_height": null,
            "min_width": null,
            "object_fit": null,
            "object_position": null,
            "order": null,
            "overflow": null,
            "overflow_x": null,
            "overflow_y": null,
            "padding": null,
            "right": null,
            "top": null,
            "visibility": null,
            "width": null
          }
        },
        "9a6c2170ca9643d08ee862a794ba821c": {
          "model_module": "@jupyter-widgets/controls",
          "model_name": "ProgressStyleModel",
          "model_module_version": "1.5.0",
          "state": {
            "_model_module": "@jupyter-widgets/controls",
            "_model_module_version": "1.5.0",
            "_model_name": "ProgressStyleModel",
            "_view_count": null,
            "_view_module": "@jupyter-widgets/base",
            "_view_module_version": "1.2.0",
            "_view_name": "StyleView",
            "bar_color": null,
            "description_width": ""
          }
        },
        "76962ad49d2a4c09aea436740f6d7600": {
          "model_module": "@jupyter-widgets/base",
          "model_name": "LayoutModel",
          "model_module_version": "1.2.0",
          "state": {
            "_model_module": "@jupyter-widgets/base",
            "_model_module_version": "1.2.0",
            "_model_name": "LayoutModel",
            "_view_count": null,
            "_view_module": "@jupyter-widgets/base",
            "_view_module_version": "1.2.0",
            "_view_name": "LayoutView",
            "align_content": null,
            "align_items": null,
            "align_self": null,
            "border": null,
            "bottom": null,
            "display": null,
            "flex": null,
            "flex_flow": null,
            "grid_area": null,
            "grid_auto_columns": null,
            "grid_auto_flow": null,
            "grid_auto_rows": null,
            "grid_column": null,
            "grid_gap": null,
            "grid_row": null,
            "grid_template_areas": null,
            "grid_template_columns": null,
            "grid_template_rows": null,
            "height": null,
            "justify_content": null,
            "justify_items": null,
            "left": null,
            "margin": null,
            "max_height": null,
            "max_width": null,
            "min_height": null,
            "min_width": null,
            "object_fit": null,
            "object_position": null,
            "order": null,
            "overflow": null,
            "overflow_x": null,
            "overflow_y": null,
            "padding": null,
            "right": null,
            "top": null,
            "visibility": null,
            "width": null
          }
        },
        "e7521ceac58b47b9a38fe2ad8de49c50": {
          "model_module": "@jupyter-widgets/controls",
          "model_name": "DescriptionStyleModel",
          "model_module_version": "1.5.0",
          "state": {
            "_model_module": "@jupyter-widgets/controls",
            "_model_module_version": "1.5.0",
            "_model_name": "DescriptionStyleModel",
            "_view_count": null,
            "_view_module": "@jupyter-widgets/base",
            "_view_module_version": "1.2.0",
            "_view_name": "StyleView",
            "description_width": ""
          }
        }
      }
    }
  },
  "nbformat": 4,
  "nbformat_minor": 0
}